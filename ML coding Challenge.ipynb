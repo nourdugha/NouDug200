{
 "cells": [
  {
   "cell_type": "markdown",
   "id": "5dd9e489",
   "metadata": {},
   "source": [
    "# Import useful libraries"
   ]
  },
  {
   "cell_type": "code",
   "execution_count": 1,
   "id": "eb0db214",
   "metadata": {},
   "outputs": [],
   "source": [
    "import numpy as np # Numerical computing library dealing with multi-dimensional matrices \n",
    "import pandas as pd # Open-source data manipulation and analysis library\n",
    "import nltk # Natural Language Toolkit\n",
    "import re # Working with regular expressions.\n",
    "import string\n",
    "from nltk.corpus import stopwords # Contains the stopwords like \"und, aber, als, oder, ...\"\n",
    "from nltk.tokenize import word_tokenize # To split the text into individual words or tokens\n",
    "from nltk.stem import PorterStemmer # To reduce words to their base or root form\n",
    "from sklearn.preprocessing import LabelEncoder # To encode the target variable "
   ]
  },
  {
   "cell_type": "markdown",
   "id": "ca30a0b0",
   "metadata": {},
   "source": [
    "# Loading dataset"
   ]
  },
  {
   "cell_type": "code",
   "execution_count": 2,
   "id": "846b192d",
   "metadata": {},
   "outputs": [
    {
     "data": {
      "text/html": [
       "<div>\n",
       "<style scoped>\n",
       "    .dataframe tbody tr th:only-of-type {\n",
       "        vertical-align: middle;\n",
       "    }\n",
       "\n",
       "    .dataframe tbody tr th {\n",
       "        vertical-align: top;\n",
       "    }\n",
       "\n",
       "    .dataframe thead th {\n",
       "        text-align: right;\n",
       "    }\n",
       "</style>\n",
       "<table border=\"1\" class=\"dataframe\">\n",
       "  <thead>\n",
       "    <tr style=\"text-align: right;\">\n",
       "      <th></th>\n",
       "      <th>text</th>\n",
       "      <th>label</th>\n",
       "    </tr>\n",
       "  </thead>\n",
       "  <tbody>\n",
       "    <tr>\n",
       "      <th>0</th>\n",
       "      <td>zucker fabrik</td>\n",
       "      <td>ft</td>\n",
       "    </tr>\n",
       "    <tr>\n",
       "      <th>1</th>\n",
       "      <td>Lebensmittel kommssionierung</td>\n",
       "      <td>ft</td>\n",
       "    </tr>\n",
       "    <tr>\n",
       "      <th>2</th>\n",
       "      <td>geländer biegen</td>\n",
       "      <td>mr</td>\n",
       "    </tr>\n",
       "    <tr>\n",
       "      <th>3</th>\n",
       "      <td>gebäudeausrüstung technische</td>\n",
       "      <td>ct</td>\n",
       "    </tr>\n",
       "    <tr>\n",
       "      <th>4</th>\n",
       "      <td>kürbiskernöl softgels</td>\n",
       "      <td>ft</td>\n",
       "    </tr>\n",
       "    <tr>\n",
       "      <th>5</th>\n",
       "      <td>Lebensmittel Organic Getränke</td>\n",
       "      <td>ft</td>\n",
       "    </tr>\n",
       "    <tr>\n",
       "      <th>6</th>\n",
       "      <td>plastikflaschen abfälle</td>\n",
       "      <td>pkg</td>\n",
       "    </tr>\n",
       "    <tr>\n",
       "      <th>7</th>\n",
       "      <td>Knoblauch frisch</td>\n",
       "      <td>ft</td>\n",
       "    </tr>\n",
       "    <tr>\n",
       "      <th>8</th>\n",
       "      <td>Lohnarbeiten für Druckguss</td>\n",
       "      <td>ct</td>\n",
       "    </tr>\n",
       "    <tr>\n",
       "      <th>9</th>\n",
       "      <td>etiketten metall</td>\n",
       "      <td>pkg</td>\n",
       "    </tr>\n",
       "    <tr>\n",
       "      <th>10</th>\n",
       "      <td>sonderformteile blech</td>\n",
       "      <td>mr</td>\n",
       "    </tr>\n",
       "    <tr>\n",
       "      <th>11</th>\n",
       "      <td>wasserstrahlschneiden Aluminium</td>\n",
       "      <td>mr</td>\n",
       "    </tr>\n",
       "    <tr>\n",
       "      <th>12</th>\n",
       "      <td>ladenbau bäcker</td>\n",
       "      <td>ft</td>\n",
       "    </tr>\n",
       "    <tr>\n",
       "      <th>13</th>\n",
       "      <td>industrie gase</td>\n",
       "      <td>ch</td>\n",
       "    </tr>\n",
       "    <tr>\n",
       "      <th>14</th>\n",
       "      <td>walter Metall cnc Bohrer</td>\n",
       "      <td>cnc</td>\n",
       "    </tr>\n",
       "    <tr>\n",
       "      <th>15</th>\n",
       "      <td>individuelle verpackung</td>\n",
       "      <td>pkg</td>\n",
       "    </tr>\n",
       "    <tr>\n",
       "      <th>16</th>\n",
       "      <td>0402544096</td>\n",
       "      <td>cnc</td>\n",
       "    </tr>\n",
       "    <tr>\n",
       "      <th>17</th>\n",
       "      <td>konfektionierung faltschachteln</td>\n",
       "      <td>pkg</td>\n",
       "    </tr>\n",
       "    <tr>\n",
       "      <th>18</th>\n",
       "      <td>Stahlbau (DIN EN 1090-3 Niedersachsen</td>\n",
       "      <td>ct</td>\n",
       "    </tr>\n",
       "    <tr>\n",
       "      <th>19</th>\n",
       "      <td>anodieren titan</td>\n",
       "      <td>mr</td>\n",
       "    </tr>\n",
       "    <tr>\n",
       "      <th>20</th>\n",
       "      <td>getrocknete Garnelen</td>\n",
       "      <td>ft</td>\n",
       "    </tr>\n",
       "    <tr>\n",
       "      <th>21</th>\n",
       "      <td>sandstrahlen von holz Lohn</td>\n",
       "      <td>mr</td>\n",
       "    </tr>\n",
       "    <tr>\n",
       "      <th>22</th>\n",
       "      <td>Lohnabfüllung ultrahocherhitze</td>\n",
       "      <td>pkg</td>\n",
       "    </tr>\n",
       "    <tr>\n",
       "      <th>23</th>\n",
       "      <td>bau endreinigungen</td>\n",
       "      <td>ct</td>\n",
       "    </tr>\n",
       "    <tr>\n",
       "      <th>24</th>\n",
       "      <td>verpackung kosmetik</td>\n",
       "      <td>pkg</td>\n",
       "    </tr>\n",
       "    <tr>\n",
       "      <th>25</th>\n",
       "      <td>reinraum isolator</td>\n",
       "      <td>ct</td>\n",
       "    </tr>\n",
       "    <tr>\n",
       "      <th>26</th>\n",
       "      <td>wiederverwendbare trinkflaschen</td>\n",
       "      <td>pkg</td>\n",
       "    </tr>\n",
       "    <tr>\n",
       "      <th>27</th>\n",
       "      <td>grünkohl pulver</td>\n",
       "      <td>ft</td>\n",
       "    </tr>\n",
       "    <tr>\n",
       "      <th>28</th>\n",
       "      <td>selbstklebende schaumstoffe</td>\n",
       "      <td>mr</td>\n",
       "    </tr>\n",
       "    <tr>\n",
       "      <th>29</th>\n",
       "      <td>Karton mit losen</td>\n",
       "      <td>pkg</td>\n",
       "    </tr>\n",
       "    <tr>\n",
       "      <th>30</th>\n",
       "      <td>silikon streifen</td>\n",
       "      <td>ch</td>\n",
       "    </tr>\n",
       "    <tr>\n",
       "      <th>31</th>\n",
       "      <td>großvolumen behälter</td>\n",
       "      <td>pkg</td>\n",
       "    </tr>\n",
       "    <tr>\n",
       "      <th>32</th>\n",
       "      <td>Folien und Folienbeutel</td>\n",
       "      <td>pkg</td>\n",
       "    </tr>\n",
       "    <tr>\n",
       "      <th>33</th>\n",
       "      <td>bauleiter schlüsselfertigbau</td>\n",
       "      <td>ct</td>\n",
       "    </tr>\n",
       "    <tr>\n",
       "      <th>34</th>\n",
       "      <td>lohnherstellung von taschen</td>\n",
       "      <td>ft</td>\n",
       "    </tr>\n",
       "    <tr>\n",
       "      <th>35</th>\n",
       "      <td>titan werkzeugbau</td>\n",
       "      <td>cnc</td>\n",
       "    </tr>\n",
       "    <tr>\n",
       "      <th>36</th>\n",
       "      <td>ammonium hydrogen carbonat</td>\n",
       "      <td>ch</td>\n",
       "    </tr>\n",
       "    <tr>\n",
       "      <th>37</th>\n",
       "      <td>5 achsen cnc fräsmaschinen</td>\n",
       "      <td>cnc</td>\n",
       "    </tr>\n",
       "    <tr>\n",
       "      <th>38</th>\n",
       "      <td>drahtbiegeteile automotive</td>\n",
       "      <td>mr</td>\n",
       "    </tr>\n",
       "    <tr>\n",
       "      <th>39</th>\n",
       "      <td>verpackung karton 35cm</td>\n",
       "      <td>pkg</td>\n",
       "    </tr>\n",
       "    <tr>\n",
       "      <th>40</th>\n",
       "      <td>sanierung parkhaus</td>\n",
       "      <td>ct</td>\n",
       "    </tr>\n",
       "    <tr>\n",
       "      <th>41</th>\n",
       "      <td>Dach anheben</td>\n",
       "      <td>ct</td>\n",
       "    </tr>\n",
       "    <tr>\n",
       "      <th>42</th>\n",
       "      <td>Laserzuschnitte Holz</td>\n",
       "      <td>mr</td>\n",
       "    </tr>\n",
       "    <tr>\n",
       "      <th>43</th>\n",
       "      <td>Dinkel kleie</td>\n",
       "      <td>ft</td>\n",
       "    </tr>\n",
       "    <tr>\n",
       "      <th>44</th>\n",
       "      <td>吉祥</td>\n",
       "      <td>mr</td>\n",
       "    </tr>\n",
       "    <tr>\n",
       "      <th>45</th>\n",
       "      <td>betonschneiden kernbohrer</td>\n",
       "      <td>mr</td>\n",
       "    </tr>\n",
       "    <tr>\n",
       "      <th>46</th>\n",
       "      <td>emaillierte behälter</td>\n",
       "      <td>pkg</td>\n",
       "    </tr>\n",
       "    <tr>\n",
       "      <th>47</th>\n",
       "      <td>versandtaschen aus karton</td>\n",
       "      <td>pkg</td>\n",
       "    </tr>\n",
       "    <tr>\n",
       "      <th>48</th>\n",
       "      <td>Aminosäuren leucin</td>\n",
       "      <td>ch</td>\n",
       "    </tr>\n",
       "    <tr>\n",
       "      <th>49</th>\n",
       "      <td>motoren für rollenbahnen</td>\n",
       "      <td>ch</td>\n",
       "    </tr>\n",
       "    <tr>\n",
       "      <th>50</th>\n",
       "      <td>- DIE norm vertriebs VON NORM- und sonderteile...</td>\n",
       "      <td>ft</td>\n",
       "    </tr>\n",
       "    <tr>\n",
       "      <th>51</th>\n",
       "      <td>süßwaren verpackungen</td>\n",
       "      <td>ft</td>\n",
       "    </tr>\n",
       "    <tr>\n",
       "      <th>52</th>\n",
       "      <td>schneidservice halbzeuge</td>\n",
       "      <td>mr</td>\n",
       "    </tr>\n",
       "    <tr>\n",
       "      <th>53</th>\n",
       "      <td>werbetartikel aus edelstahl</td>\n",
       "      <td>mr</td>\n",
       "    </tr>\n",
       "    <tr>\n",
       "      <th>54</th>\n",
       "      <td>pet verpackungen flaschen</td>\n",
       "      <td>pkg</td>\n",
       "    </tr>\n",
       "    <tr>\n",
       "      <th>55</th>\n",
       "      <td>seifen schale</td>\n",
       "      <td>pkg</td>\n",
       "    </tr>\n",
       "    <tr>\n",
       "      <th>56</th>\n",
       "      <td>Bautrockner Mieten</td>\n",
       "      <td>ct</td>\n",
       "    </tr>\n",
       "    <tr>\n",
       "      <th>57</th>\n",
       "      <td>eingelegtes gemüse</td>\n",
       "      <td>ft</td>\n",
       "    </tr>\n",
       "    <tr>\n",
       "      <th>58</th>\n",
       "      <td>verpackungen fuer getränke</td>\n",
       "      <td>pkg</td>\n",
       "    </tr>\n",
       "    <tr>\n",
       "      <th>59</th>\n",
       "      <td>Silikone lebensmittelkontakt</td>\n",
       "      <td>ch</td>\n",
       "    </tr>\n",
       "  </tbody>\n",
       "</table>\n",
       "</div>"
      ],
      "text/plain": [
       "                                                 text label\n",
       "0                                       zucker fabrik    ft\n",
       "1                        Lebensmittel kommssionierung    ft\n",
       "2                                     geländer biegen    mr\n",
       "3                        gebäudeausrüstung technische    ct\n",
       "4                               kürbiskernöl softgels    ft\n",
       "5                       Lebensmittel Organic Getränke    ft\n",
       "6                             plastikflaschen abfälle   pkg\n",
       "7                                    Knoblauch frisch    ft\n",
       "8                          Lohnarbeiten für Druckguss    ct\n",
       "9                                    etiketten metall   pkg\n",
       "10                              sonderformteile blech    mr\n",
       "11                    wasserstrahlschneiden Aluminium    mr\n",
       "12                                    ladenbau bäcker    ft\n",
       "13                                     industrie gase    ch\n",
       "14                           walter Metall cnc Bohrer   cnc\n",
       "15                            individuelle verpackung   pkg\n",
       "16                                         0402544096   cnc\n",
       "17                    konfektionierung faltschachteln   pkg\n",
       "18              Stahlbau (DIN EN 1090-3 Niedersachsen    ct\n",
       "19                                    anodieren titan    mr\n",
       "20                               getrocknete Garnelen    ft\n",
       "21                         sandstrahlen von holz Lohn    mr\n",
       "22                     Lohnabfüllung ultrahocherhitze   pkg\n",
       "23                                 bau endreinigungen    ct\n",
       "24                                verpackung kosmetik   pkg\n",
       "25                                  reinraum isolator    ct\n",
       "26                    wiederverwendbare trinkflaschen   pkg\n",
       "27                                    grünkohl pulver    ft\n",
       "28                        selbstklebende schaumstoffe    mr\n",
       "29                                   Karton mit losen   pkg\n",
       "30                                   silikon streifen    ch\n",
       "31                               großvolumen behälter   pkg\n",
       "32                            Folien und Folienbeutel   pkg\n",
       "33                       bauleiter schlüsselfertigbau    ct\n",
       "34                        lohnherstellung von taschen    ft\n",
       "35                                  titan werkzeugbau   cnc\n",
       "36                         ammonium hydrogen carbonat    ch\n",
       "37                         5 achsen cnc fräsmaschinen   cnc\n",
       "38                         drahtbiegeteile automotive    mr\n",
       "39                             verpackung karton 35cm   pkg\n",
       "40                                 sanierung parkhaus    ct\n",
       "41                                       Dach anheben    ct\n",
       "42                               Laserzuschnitte Holz    mr\n",
       "43                                       Dinkel kleie    ft\n",
       "44                                                 吉祥    mr\n",
       "45                          betonschneiden kernbohrer    mr\n",
       "46                               emaillierte behälter   pkg\n",
       "47                          versandtaschen aus karton   pkg\n",
       "48                                 Aminosäuren leucin    ch\n",
       "49                           motoren für rollenbahnen    ch\n",
       "50  - DIE norm vertriebs VON NORM- und sonderteile...    ft\n",
       "51                              süßwaren verpackungen    ft\n",
       "52                           schneidservice halbzeuge    mr\n",
       "53                        werbetartikel aus edelstahl    mr\n",
       "54                          pet verpackungen flaschen   pkg\n",
       "55                                      seifen schale   pkg\n",
       "56                                 Bautrockner Mieten    ct\n",
       "57                                 eingelegtes gemüse    ft\n",
       "58                         verpackungen fuer getränke   pkg\n",
       "59                       Silikone lebensmittelkontakt    ch"
      ]
     },
     "execution_count": 2,
     "metadata": {},
     "output_type": "execute_result"
    }
   ],
   "source": [
    "data_df = pd.read_csv('sample_data.csv')\n",
    "data_df.head(60)"
   ]
  },
  {
   "cell_type": "markdown",
   "id": "c7ec1c71",
   "metadata": {},
   "source": [
    "# Trying to understand dataset"
   ]
  },
  {
   "cell_type": "code",
   "execution_count": 3,
   "id": "f7c1daa8",
   "metadata": {},
   "outputs": [
    {
     "data": {
      "text/plain": [
       "array(['ft', 'mr', 'ct', 'pkg', 'ch', 'cnc', nan], dtype=object)"
      ]
     },
     "execution_count": 3,
     "metadata": {},
     "output_type": "execute_result"
    }
   ],
   "source": [
    "# Get unique labels in the 'label' column\n",
    "unique_labels = data_df['label'].unique()\n",
    "unique_labels"
   ]
  },
  {
   "cell_type": "code",
   "execution_count": 4,
   "id": "994a9c04",
   "metadata": {},
   "outputs": [
    {
     "name": "stdout",
     "output_type": "stream",
     "text": [
      "Label Counts:\n",
      "label\n",
      "ft     11226\n",
      "pkg     9617\n",
      "ct      5061\n",
      "mr      5016\n",
      "ch      3688\n",
      "cnc     2587\n",
      "Name: count, dtype: int64\n"
     ]
    }
   ],
   "source": [
    "label_counts = data_df['label'].value_counts()\n",
    "print(\"Label Counts:\")\n",
    "print(label_counts)"
   ]
  },
  {
   "cell_type": "code",
   "execution_count": 5,
   "id": "c84ac7ea",
   "metadata": {},
   "outputs": [
    {
     "name": "stdout",
     "output_type": "stream",
     "text": [
      "Number of NaN values in 'label' column: 100\n"
     ]
    }
   ],
   "source": [
    "nan_count_label = data_df['label'].isna().sum()\n",
    "print(\"Number of NaN values in 'label' column:\", nan_count_label)"
   ]
  },
  {
   "cell_type": "code",
   "execution_count": 6,
   "id": "b66fecc1",
   "metadata": {},
   "outputs": [
    {
     "name": "stdout",
     "output_type": "stream",
     "text": [
      "Number of NaN values in 'text' column: 0\n"
     ]
    }
   ],
   "source": [
    "nan_count_text = data_df['text'].isna().sum()\n",
    "print(\"Number of NaN values in 'text' column:\", nan_count_text)"
   ]
  },
  {
   "cell_type": "markdown",
   "id": "7d6141db",
   "metadata": {},
   "source": [
    "we have relatively large dataset (37295 examples) and only a small portion of it (100 examples) has missing labels, so from my perspective might consider the following approach:\n",
    "\n",
    "Remove Examples with Missing Labels:\n",
    "\n",
    "Since the number of examples with missing labels is small in comparison to the overall dataset, removing these examples might be a reasonable choice, and if the number of examples with missing labels is relatively small and won't significantly impact the model's performance."
   ]
  },
  {
   "cell_type": "code",
   "execution_count": 7,
   "id": "cbfd1dfa",
   "metadata": {},
   "outputs": [
    {
     "data": {
      "text/html": [
       "<div>\n",
       "<style scoped>\n",
       "    .dataframe tbody tr th:only-of-type {\n",
       "        vertical-align: middle;\n",
       "    }\n",
       "\n",
       "    .dataframe tbody tr th {\n",
       "        vertical-align: top;\n",
       "    }\n",
       "\n",
       "    .dataframe thead th {\n",
       "        text-align: right;\n",
       "    }\n",
       "</style>\n",
       "<table border=\"1\" class=\"dataframe\">\n",
       "  <thead>\n",
       "    <tr style=\"text-align: right;\">\n",
       "      <th></th>\n",
       "      <th>text</th>\n",
       "      <th>label</th>\n",
       "    </tr>\n",
       "  </thead>\n",
       "  <tbody>\n",
       "    <tr>\n",
       "      <th>0</th>\n",
       "      <td>zucker fabrik</td>\n",
       "      <td>ft</td>\n",
       "    </tr>\n",
       "    <tr>\n",
       "      <th>1</th>\n",
       "      <td>Lebensmittel kommssionierung</td>\n",
       "      <td>ft</td>\n",
       "    </tr>\n",
       "    <tr>\n",
       "      <th>2</th>\n",
       "      <td>geländer biegen</td>\n",
       "      <td>mr</td>\n",
       "    </tr>\n",
       "    <tr>\n",
       "      <th>3</th>\n",
       "      <td>gebäudeausrüstung technische</td>\n",
       "      <td>ct</td>\n",
       "    </tr>\n",
       "    <tr>\n",
       "      <th>4</th>\n",
       "      <td>kürbiskernöl softgels</td>\n",
       "      <td>ft</td>\n",
       "    </tr>\n",
       "    <tr>\n",
       "      <th>...</th>\n",
       "      <td>...</td>\n",
       "      <td>...</td>\n",
       "    </tr>\n",
       "    <tr>\n",
       "      <th>37290</th>\n",
       "      <td>spirituosen dienstleister</td>\n",
       "      <td>ft</td>\n",
       "    </tr>\n",
       "    <tr>\n",
       "      <th>37291</th>\n",
       "      <td>mini hydraulikzylinder</td>\n",
       "      <td>ct</td>\n",
       "    </tr>\n",
       "    <tr>\n",
       "      <th>37292</th>\n",
       "      <td>blockbodenbeutel verpackungen</td>\n",
       "      <td>pkg</td>\n",
       "    </tr>\n",
       "    <tr>\n",
       "      <th>37293</th>\n",
       "      <td>Drehteile verpacken</td>\n",
       "      <td>mr</td>\n",
       "    </tr>\n",
       "    <tr>\n",
       "      <th>37294</th>\n",
       "      <td>bagger tanks</td>\n",
       "      <td>ct</td>\n",
       "    </tr>\n",
       "  </tbody>\n",
       "</table>\n",
       "<p>37195 rows × 2 columns</p>\n",
       "</div>"
      ],
      "text/plain": [
       "                                text label\n",
       "0                      zucker fabrik    ft\n",
       "1       Lebensmittel kommssionierung    ft\n",
       "2                    geländer biegen    mr\n",
       "3       gebäudeausrüstung technische    ct\n",
       "4              kürbiskernöl softgels    ft\n",
       "...                              ...   ...\n",
       "37290      spirituosen dienstleister    ft\n",
       "37291         mini hydraulikzylinder    ct\n",
       "37292  blockbodenbeutel verpackungen   pkg\n",
       "37293            Drehteile verpacken    mr\n",
       "37294                   bagger tanks    ct\n",
       "\n",
       "[37195 rows x 2 columns]"
      ]
     },
     "execution_count": 7,
     "metadata": {},
     "output_type": "execute_result"
    }
   ],
   "source": [
    "# after executing this cell will have 37195 exampels\n",
    "data_df = data_df.dropna(subset=['label'])\n",
    "data_df "
   ]
  },
  {
   "cell_type": "markdown",
   "id": "f77091e4",
   "metadata": {},
   "source": [
    "I observed that there are some chinese text so this is not german search query like exmaple(44) --> (text:吉祥 , label:mr) so i will remove it"
   ]
  },
  {
   "cell_type": "code",
   "execution_count": 8,
   "id": "4b26da0a",
   "metadata": {},
   "outputs": [],
   "source": [
    "chinese_pattern = re.compile('[\\u4e00-\\u9fff]+')  # Unicode range for Chinese characters\n",
    "data_df = data_df[~data_df['text'].str.contains(chinese_pattern)]"
   ]
  },
  {
   "cell_type": "code",
   "execution_count": 9,
   "id": "d2a19d41",
   "metadata": {},
   "outputs": [],
   "source": [
    "# Remove rows where 'text' column contains only numbers\n",
    "data_df = data_df[~data_df['text'].str.isnumeric()]"
   ]
  },
  {
   "cell_type": "code",
   "execution_count": 10,
   "id": "53d974da",
   "metadata": {},
   "outputs": [
    {
     "data": {
      "text/html": [
       "<div>\n",
       "<style scoped>\n",
       "    .dataframe tbody tr th:only-of-type {\n",
       "        vertical-align: middle;\n",
       "    }\n",
       "\n",
       "    .dataframe tbody tr th {\n",
       "        vertical-align: top;\n",
       "    }\n",
       "\n",
       "    .dataframe thead th {\n",
       "        text-align: right;\n",
       "    }\n",
       "</style>\n",
       "<table border=\"1\" class=\"dataframe\">\n",
       "  <thead>\n",
       "    <tr style=\"text-align: right;\">\n",
       "      <th></th>\n",
       "      <th>text</th>\n",
       "      <th>label</th>\n",
       "    </tr>\n",
       "  </thead>\n",
       "  <tbody>\n",
       "    <tr>\n",
       "      <th>0</th>\n",
       "      <td>zucker fabrik</td>\n",
       "      <td>ft</td>\n",
       "    </tr>\n",
       "    <tr>\n",
       "      <th>1</th>\n",
       "      <td>Lebensmittel kommssionierung</td>\n",
       "      <td>ft</td>\n",
       "    </tr>\n",
       "    <tr>\n",
       "      <th>2</th>\n",
       "      <td>geländer biegen</td>\n",
       "      <td>mr</td>\n",
       "    </tr>\n",
       "    <tr>\n",
       "      <th>3</th>\n",
       "      <td>gebäudeausrüstung technische</td>\n",
       "      <td>ct</td>\n",
       "    </tr>\n",
       "    <tr>\n",
       "      <th>4</th>\n",
       "      <td>kürbiskernöl softgels</td>\n",
       "      <td>ft</td>\n",
       "    </tr>\n",
       "    <tr>\n",
       "      <th>5</th>\n",
       "      <td>Lebensmittel Organic Getränke</td>\n",
       "      <td>ft</td>\n",
       "    </tr>\n",
       "    <tr>\n",
       "      <th>6</th>\n",
       "      <td>plastikflaschen abfälle</td>\n",
       "      <td>pkg</td>\n",
       "    </tr>\n",
       "    <tr>\n",
       "      <th>7</th>\n",
       "      <td>Knoblauch frisch</td>\n",
       "      <td>ft</td>\n",
       "    </tr>\n",
       "    <tr>\n",
       "      <th>8</th>\n",
       "      <td>Lohnarbeiten für Druckguss</td>\n",
       "      <td>ct</td>\n",
       "    </tr>\n",
       "    <tr>\n",
       "      <th>9</th>\n",
       "      <td>etiketten metall</td>\n",
       "      <td>pkg</td>\n",
       "    </tr>\n",
       "  </tbody>\n",
       "</table>\n",
       "</div>"
      ],
      "text/plain": [
       "                            text label\n",
       "0                  zucker fabrik    ft\n",
       "1   Lebensmittel kommssionierung    ft\n",
       "2                geländer biegen    mr\n",
       "3   gebäudeausrüstung technische    ct\n",
       "4          kürbiskernöl softgels    ft\n",
       "5  Lebensmittel Organic Getränke    ft\n",
       "6        plastikflaschen abfälle   pkg\n",
       "7               Knoblauch frisch    ft\n",
       "8     Lohnarbeiten für Druckguss    ct\n",
       "9               etiketten metall   pkg"
      ]
     },
     "execution_count": 10,
     "metadata": {},
     "output_type": "execute_result"
    }
   ],
   "source": [
    "data_df.head(10)"
   ]
  },
  {
   "cell_type": "markdown",
   "id": "dbd65a19",
   "metadata": {},
   "source": [
    "# Preprocessing dataset\n",
    "\n",
    "1- Lowercasing:(Convert all text to lowercase. This ensures consistency in your data and helps the model treat words in a case-    insensitive manner.)\n",
    "\n",
    "2- Removing Punctuation: (Remove any unnecessary punctuation from the text)\n",
    "\n",
    "3- Removing Stopwords and Tokenization: (Remove common words that don't carry much meaning (stopwords)) ---> (Split the text into individual words or tokens. This is a crucial step for most natural language processing tasks.)\n",
    "\n",
    "4- Stemming or Lemmatization:(Reduce words to their base or root form. This step can help in reducing the dimensionality of the    data and improving model performance.)\n",
    "\n",
    "5- Label encoding for the target variable"
   ]
  },
  {
   "cell_type": "code",
   "execution_count": 11,
   "id": "90a5bf02",
   "metadata": {},
   "outputs": [
    {
     "name": "stderr",
     "output_type": "stream",
     "text": [
      "[nltk_data] Downloading package stopwords to\n",
      "[nltk_data]     C:\\Users\\ASUS\\AppData\\Roaming\\nltk_data...\n",
      "[nltk_data]   Package stopwords is already up-to-date!\n",
      "[nltk_data] Downloading package punkt to\n",
      "[nltk_data]     C:\\Users\\ASUS\\AppData\\Roaming\\nltk_data...\n",
      "[nltk_data]   Package punkt is already up-to-date!\n"
     ]
    },
    {
     "data": {
      "text/plain": [
       "True"
      ]
     },
     "execution_count": 11,
     "metadata": {},
     "output_type": "execute_result"
    }
   ],
   "source": [
    "# Download necessary resources from NLTK\n",
    "nltk.download('stopwords')\n",
    "nltk.download('punkt')"
   ]
  },
  {
   "cell_type": "code",
   "execution_count": 12,
   "id": "12a593d7",
   "metadata": {},
   "outputs": [],
   "source": [
    "def process_text(dataframe, text_column, label_column):\n",
    "    # Step 1: will convert the text to lowercase\n",
    "    dataframe[text_column] = dataframe[text_column].str.lower()\n",
    "    # Step 2: will remove special characters and numbers \"Remove punctuation\"\n",
    "    # It replaces any character that is not a lowercase letter (a-zäöüß) or whitespace (\\s) with an empty string ''. The ^ inside the square brackets negates the character set\n",
    "    dataframe[text_column] = dataframe[text_column].apply(lambda x: re.sub(r'[^a-zäöüß\\s]', '', x))\n",
    "    # Step 3: Tokenization and remove stopwords\n",
    "    stop_words = set(stopwords.words('german'))\n",
    "    dataframe[text_column] = dataframe[text_column].apply(lambda x: ' '.join([word for word in word_tokenize(x) if word.lower() not in stop_words]))\n",
    "    # word_tokenize(x): This function tokenizes the text string x into a list of words.\n",
    "    # [word for word in word_tokenize(x) if word.lower() not in stop_words]: here iterates through each word in the tokenized list, checks if the lowercase version of the word is not in the stop_words set, and keeps only those words that are not stopwords.\n",
    "    # ' '.join(...): This part joins the filtered list of words back into a sentence, separated by spaces.\n",
    "    # Step 4: Stemming using PorterStemmer\n",
    "    porter_stemmer = PorterStemmer()\n",
    "    dataframe[text_column] = dataframe[text_column].apply(lambda x: ' '.join([porter_stemmer.stem(word) for word in word_tokenize(x)]))\n",
    "    # Step 5: Label encoding for the target variable\n",
    "    # The LabelEncoder is commonly used for encoding categorical target labels with numerical values.\n",
    "    label_encoder = LabelEncoder()\n",
    "    dataframe[label_column] = label_encoder.fit_transform(dataframe[label_column])    \n",
    "    class_mapping = dict(zip(label_encoder.classes_, label_encoder.transform(label_encoder.classes_)))\n",
    "    # Display the class mapping\n",
    "    print(\"Class Mapping:\")\n",
    "    for class_label, numerical_code in class_mapping.items():\n",
    "        print(f\"{class_label}: {numerical_code}\")\n",
    "\n",
    "    # Display the encoded classes in the DataFrame\n",
    "    print(\"\\nEncoded classes in the DataFrame:\", dataframe[label_column].unique())\n",
    "    \n",
    "    return dataframe\n",
    "\n",
    "    "
   ]
  },
  {
   "cell_type": "code",
   "execution_count": 13,
   "id": "59b3d1f8",
   "metadata": {},
   "outputs": [
    {
     "name": "stdout",
     "output_type": "stream",
     "text": [
      "Class Mapping:\n",
      "ch: 0\n",
      "cnc: 1\n",
      "ct: 2\n",
      "ft: 3\n",
      "mr: 4\n",
      "pkg: 5\n",
      "\n",
      "Encoded classes in the DataFrame: [3 4 2 5 0 1]\n"
     ]
    },
    {
     "data": {
      "text/html": [
       "<div>\n",
       "<style scoped>\n",
       "    .dataframe tbody tr th:only-of-type {\n",
       "        vertical-align: middle;\n",
       "    }\n",
       "\n",
       "    .dataframe tbody tr th {\n",
       "        vertical-align: top;\n",
       "    }\n",
       "\n",
       "    .dataframe thead th {\n",
       "        text-align: right;\n",
       "    }\n",
       "</style>\n",
       "<table border=\"1\" class=\"dataframe\">\n",
       "  <thead>\n",
       "    <tr style=\"text-align: right;\">\n",
       "      <th></th>\n",
       "      <th>text</th>\n",
       "      <th>label</th>\n",
       "    </tr>\n",
       "  </thead>\n",
       "  <tbody>\n",
       "    <tr>\n",
       "      <th>0</th>\n",
       "      <td>zucker fabrik</td>\n",
       "      <td>3</td>\n",
       "    </tr>\n",
       "    <tr>\n",
       "      <th>1</th>\n",
       "      <td>lebensmittel kommssionierung</td>\n",
       "      <td>3</td>\n",
       "    </tr>\n",
       "    <tr>\n",
       "      <th>2</th>\n",
       "      <td>geländer biegen</td>\n",
       "      <td>4</td>\n",
       "    </tr>\n",
       "    <tr>\n",
       "      <th>3</th>\n",
       "      <td>gebäudeausrüstung technisch</td>\n",
       "      <td>2</td>\n",
       "    </tr>\n",
       "    <tr>\n",
       "      <th>4</th>\n",
       "      <td>kürbiskernöl softgel</td>\n",
       "      <td>3</td>\n",
       "    </tr>\n",
       "    <tr>\n",
       "      <th>...</th>\n",
       "      <td>...</td>\n",
       "      <td>...</td>\n",
       "    </tr>\n",
       "    <tr>\n",
       "      <th>37290</th>\n",
       "      <td>spirituosen dienstleist</td>\n",
       "      <td>3</td>\n",
       "    </tr>\n",
       "    <tr>\n",
       "      <th>37291</th>\n",
       "      <td>mini hydraulikzylind</td>\n",
       "      <td>2</td>\n",
       "    </tr>\n",
       "    <tr>\n",
       "      <th>37292</th>\n",
       "      <td>blockbodenbeutel verpackungen</td>\n",
       "      <td>5</td>\n",
       "    </tr>\n",
       "    <tr>\n",
       "      <th>37293</th>\n",
       "      <td>drehteil verpacken</td>\n",
       "      <td>4</td>\n",
       "    </tr>\n",
       "    <tr>\n",
       "      <th>37294</th>\n",
       "      <td>bagger tank</td>\n",
       "      <td>2</td>\n",
       "    </tr>\n",
       "  </tbody>\n",
       "</table>\n",
       "<p>36595 rows × 2 columns</p>\n",
       "</div>"
      ],
      "text/plain": [
       "                                text  label\n",
       "0                      zucker fabrik      3\n",
       "1       lebensmittel kommssionierung      3\n",
       "2                    geländer biegen      4\n",
       "3        gebäudeausrüstung technisch      2\n",
       "4               kürbiskernöl softgel      3\n",
       "...                              ...    ...\n",
       "37290        spirituosen dienstleist      3\n",
       "37291           mini hydraulikzylind      2\n",
       "37292  blockbodenbeutel verpackungen      5\n",
       "37293             drehteil verpacken      4\n",
       "37294                    bagger tank      2\n",
       "\n",
       "[36595 rows x 2 columns]"
      ]
     },
     "execution_count": 13,
     "metadata": {},
     "output_type": "execute_result"
    }
   ],
   "source": [
    "processed_df= process_text(data_df, 'text', 'label')\n",
    "processed_df"
   ]
  },
  {
   "cell_type": "code",
   "execution_count": 14,
   "id": "84515456",
   "metadata": {},
   "outputs": [
    {
     "name": "stdout",
     "output_type": "stream",
     "text": [
      "Number of NaN values in 'text' column: 0\n"
     ]
    }
   ],
   "source": [
    "nan_count_text_after_process_text = processed_df['text'].isna().sum()\n",
    "print(\"Number of NaN values in 'text' column:\", nan_count_text_after_process_text)"
   ]
  },
  {
   "cell_type": "markdown",
   "id": "d87acb63",
   "metadata": {},
   "source": [
    "We observe that for example (smaple 8 was \"Lohnarbeiten für Druckguss\" and after processing become \"lohnarbeiten druckguss\")"
   ]
  },
  {
   "cell_type": "markdown",
   "id": "fd392d20",
   "metadata": {},
   "source": [
    "# Preparing the dataset for machine learning model"
   ]
  },
  {
   "cell_type": "code",
   "execution_count": 15,
   "id": "38bae7fe",
   "metadata": {},
   "outputs": [],
   "source": [
    "from sklearn.model_selection import train_test_split\n",
    "\n",
    "X_train, X_test, y_train, y_test = train_test_split(\n",
    "    processed_df['text'],  # Features (text)\n",
    "    processed_df['label'],  # Labels\n",
    "    test_size=0.2,  # 80% training, 20% testing\n",
    "    random_state=42  # Set a random seed for reproducibility\n",
    ")"
   ]
  },
  {
   "cell_type": "code",
   "execution_count": 16,
   "id": "60a39d97",
   "metadata": {},
   "outputs": [
    {
     "name": "stdout",
     "output_type": "stream",
     "text": [
      "Number of the examples in Training set : 29276\n",
      "Number of the examples in Test set : 7319\n"
     ]
    }
   ],
   "source": [
    "# Here for the clarification of the Shapes of splitting dataset\n",
    "print(\"Number of the examples in Training set :\",X_train.shape[0])\n",
    "print(\"Number of the examples in Test set :\",X_test.shape[0])"
   ]
  },
  {
   "cell_type": "markdown",
   "id": "caba5e01",
   "metadata": {},
   "source": [
    "# Text Vectorization\n",
    " Here I convert the text data into a format that can be used by machine learning algorithms. This often involves transforming the text into numerical vectors"
   ]
  },
  {
   "cell_type": "code",
   "execution_count": 17,
   "id": "27dff308",
   "metadata": {},
   "outputs": [],
   "source": [
    "from sklearn.feature_extraction.text import TfidfVectorizer\n",
    "\n",
    "tfidf_vectorizer = TfidfVectorizer()  # Adjust the max_features parameter\n",
    "X_train_tfidf = tfidf_vectorizer.fit_transform(X_train)\n",
    "X_test_tfidf = tfidf_vectorizer.transform(X_test)"
   ]
  },
  {
   "cell_type": "code",
   "execution_count": 18,
   "id": "c4d4306d",
   "metadata": {},
   "outputs": [
    {
     "name": "stdout",
     "output_type": "stream",
     "text": [
      "Shape of TF-IDF matrix: (29276, 15885)\n",
      "Shape of the first example: (1, 15885)\n",
      "First row of TF-IDF matrix: [[0. 0. 0. ... 0. 0. 0.]]\n"
     ]
    }
   ],
   "source": [
    "print(\"Shape of TF-IDF matrix:\", X_train_tfidf.shape)\n",
    "print(\"Shape of the first example:\",X_train_tfidf[0].shape)\n",
    "print(\"First row of TF-IDF matrix:\", X_train_tfidf[0].toarray())"
   ]
  },
  {
   "cell_type": "markdown",
   "id": "9da2de7b",
   "metadata": {},
   "source": [
    " matrix: (29276, 15885)\" indicates that your TF-IDF matrix has 29,276 rows and 15,885 columns.\n",
    " \n",
    " 29,276 is the number of examples in training set.\n",
    " \n",
    " 15,885 is the number of unique words (features) in the training set.\n",
    " \n",
    " This means that TF-IDF matrix has one row for each document in your training set, and each document is represented by a   vector in a space with 15,885 dimensions. Each dimension corresponds to a unique word in your training set."
   ]
  },
  {
   "cell_type": "markdown",
   "id": "76b89dc9",
   "metadata": {},
   "source": [
    "# Model Training"
   ]
  },
  {
   "cell_type": "markdown",
   "id": "6d4cee81",
   "metadata": {},
   "source": [
    "Multinomial Naive Bayes"
   ]
  },
  {
   "cell_type": "code",
   "execution_count": 19,
   "id": "e257da9d",
   "metadata": {},
   "outputs": [
    {
     "name": "stdout",
     "output_type": "stream",
     "text": [
      "              precision    recall  f1-score   support\n",
      "\n",
      "           0       0.97      0.74      0.84       694\n",
      "           1       0.91      0.55      0.69       498\n",
      "           2       0.95      0.87      0.90      1019\n",
      "           3       0.82      0.93      0.87      2227\n",
      "           4       0.84      0.82      0.83       986\n",
      "           5       0.82      0.89      0.86      1895\n",
      "\n",
      "    accuracy                           0.85      7319\n",
      "   macro avg       0.89      0.80      0.83      7319\n",
      "weighted avg       0.86      0.85      0.85      7319\n",
      "\n"
     ]
    }
   ],
   "source": [
    "from sklearn.naive_bayes import MultinomialNB\n",
    "from sklearn.metrics import classification_report\n",
    "\n",
    "model_nb = MultinomialNB()\n",
    "model_nb.fit(X_train_tfidf, y_train)\n",
    "\n",
    "# Make predictions\n",
    "predictions_nb = model_nb.predict(X_test_tfidf)\n",
    "\n",
    "# Evaluate the model\n",
    "print(classification_report(y_test, predictions_nb))"
   ]
  },
  {
   "cell_type": "code",
   "execution_count": 20,
   "id": "2a35ce9b",
   "metadata": {},
   "outputs": [
    {
     "name": "stdout",
     "output_type": "stream",
     "text": [
      "Predicted Class Label(s): [3]\n"
     ]
    }
   ],
   "source": [
    "# New text input\n",
    "new_text = \"Lebensmittel kommssionierung\"\n",
    "\n",
    "# Transform the new text into TF-IDF features\n",
    "new_text_tfidf = tfidf_vectorizer.transform([new_text])\n",
    "\n",
    "# Make predictions\n",
    "new_predictions = model_nb.predict(new_text_tfidf)\n",
    "\n",
    "# Print the predicted class label(s)\n",
    "print(\"Predicted Class Label(s):\", new_predictions)"
   ]
  },
  {
   "cell_type": "markdown",
   "id": "f8f7fa64",
   "metadata": {},
   "source": [
    "- True Positive: model predicted correctly as positive and the actual class was positive\n",
    "- True Negative: model predicted correctly as negative and the actual class was negative\n",
    "- False Positive: model predicted incorrectly as positive and the actual class was negative\n",
    "- False Negative: model predicted incorrectly as negative and the actual class was positive\n",
    "\n",
    "Precision: Precision is the ratio of correctly predicted positive observations to the total predicted positives.\n",
    "  - precision = True Positives / (True Positives + False Positives) \n",
    "  - It gives an indication of how many instances predicted as positive are actually positive.\n",
    "\n",
    "Recall (Sensitivity or True Positive Rate): Recall is the ratio of correctly predicted positive observations to all the actual positives.\n",
    "   - Recall = True Positives / (True Positives + False Negatives)\n",
    "   - It indicates how many actual positive instances are correctly predicted.\n",
    "\n",
    "F1-Score: The F1-score is the harmonic mean of precision and recall, providing a balance between the two.\n",
    "   - F1-Score = 2 * (Precision * Recall) / (Precision + Recall)\n",
    "   - It is a single metric that considers both false positives and false negatives.\n",
    "\n",
    "Support: Support is the number of actual occurrences of the class in the specified dataset.\n",
    "It gives the number of samples in each class.\n",
    "\n",
    "Accuracy: Accuracy is the ratio of correctly predicted observations to the total observations\n",
    "  - Accuracy = (TP + TN) / (TP + TN + FP + FN).\n",
    "  - It provides an overall measure of how well the model is performing.\n",
    "\n",
    "Explanation of results for (0) class:\n",
    "\n",
    "precision:\n",
    " - Precision for class 0 is 0.97, which means that out of all instances predicted as class 0, 97% were correct.\n",
    " - In the context of your specific task, when the model predicts class 0 (the actual label is 0), it is correct 97% of the time.\n",
    "\n",
    "recall:\n",
    " - Recall for class 0 is 0.74, indicating that the model correctly identified 74% of all instances that truly belong to class 0.\n",
    " - In other words, out of all instances that are actually class 0, the model correctly predicted 74% of them.\n",
    " \n",
    "Support (694):\n",
    "\n",
    "- Support is the number of actual occurrences of the class in the specified dataset (test set, in this case).\n",
    "- For class 0, there are 694 instances in the test set."
   ]
  },
  {
   "cell_type": "code",
   "execution_count": 21,
   "id": "d8e900cf",
   "metadata": {},
   "outputs": [
    {
     "name": "stdout",
     "output_type": "stream",
     "text": [
      "Accuracy for Multinomial Naive Bayes: 0.8538\n"
     ]
    }
   ],
   "source": [
    "from sklearn.metrics import accuracy_score, confusion_matrix\n",
    "\n",
    "# Calculate accuracy\n",
    "accuracy_nb = accuracy_score(y_test, predictions_nb)\n",
    "print(f\"Accuracy for Multinomial Naive Bayes: {accuracy_nb:.4f}\")"
   ]
  },
  {
   "cell_type": "code",
   "execution_count": 22,
   "id": "a1433090",
   "metadata": {},
   "outputs": [
    {
     "data": {
      "image/png": "[encoded data removed]",
      "text/plain": [
       "<Figure size 800x600 with 2 Axes>"
      ]
     },
     "metadata": {},
     "output_type": "display_data"
    }
   ],
   "source": [
    "import matplotlib.pyplot as plt\n",
    "import seaborn as sns\n",
    "\n",
    "# Generate and display confusion matrix\n",
    "conf_matrix_nb = confusion_matrix(y_test, predictions_nb)\n",
    "# Plot confusion matrix\n",
    "plt.figure(figsize=(8, 6))\n",
    "sns.heatmap(conf_matrix_nb, annot=True, fmt='d', cmap='Blues', xticklabels=range(6), yticklabels=range(6))\n",
    "plt.title('Confusion Matrix - Multinomial Naive Bayes')\n",
    "plt.xlabel('Predicted Labels')\n",
    "plt.ylabel('True Labels')\n",
    "plt.show()"
   ]
  },
  {
   "cell_type": "markdown",
   "id": "c6cf543e",
   "metadata": {},
   "source": [
    "# Preparing for Dockerized\n",
    "I use the Pipeline package to make the two steps (vectorizer, Training Model) in one step as pipeline so that easy to save the model also via Pickle package"
   ]
  },
  {
   "cell_type": "code",
   "execution_count": 23,
   "id": "37935872",
   "metadata": {},
   "outputs": [
    {
     "data": {
      "text/html": [
       "<style>#sk-container-id-1 {color: black;}#sk-container-id-1 pre{padding: 0;}#sk-container-id-1 div.sk-toggleable {background-color: white;}#sk-container-id-1 label.sk-toggleable__label {cursor: pointer;display: block;width: 100%;margin-bottom: 0;padding: 0.3em;box-sizing: border-box;text-align: center;}#sk-container-id-1 label.sk-toggleable__label-arrow:before {content: \"▸\";float: left;margin-right: 0.25em;color: #696969;}#sk-container-id-1 label.sk-toggleable__label-arrow:hover:before {color: black;}#sk-container-id-1 div.sk-estimator:hover label.sk-toggleable__label-arrow:before {color: black;}#sk-container-id-1 div.sk-toggleable__content {max-height: 0;max-width: 0;overflow: hidden;text-align: left;background-color: #f0f8ff;}#sk-container-id-1 div.sk-toggleable__content pre {margin: 0.2em;color: black;border-radius: 0.25em;background-color: #f0f8ff;}#sk-container-id-1 input.sk-toggleable__control:checked~div.sk-toggleable__content {max-height: 200px;max-width: 100%;overflow: auto;}#sk-container-id-1 input.sk-toggleable__control:checked~label.sk-toggleable__label-arrow:before {content: \"▾\";}#sk-container-id-1 div.sk-estimator input.sk-toggleable__control:checked~label.sk-toggleable__label {background-color: #d4ebff;}#sk-container-id-1 div.sk-label input.sk-toggleable__control:checked~label.sk-toggleable__label {background-color: #d4ebff;}#sk-container-id-1 input.sk-hidden--visually {border: 0;clip: rect(1px 1px 1px 1px);clip: rect(1px, 1px, 1px, 1px);height: 1px;margin: -1px;overflow: hidden;padding: 0;position: absolute;width: 1px;}#sk-container-id-1 div.sk-estimator {font-family: monospace;background-color: #f0f8ff;border: 1px dotted black;border-radius: 0.25em;box-sizing: border-box;margin-bottom: 0.5em;}#sk-container-id-1 div.sk-estimator:hover {background-color: #d4ebff;}#sk-container-id-1 div.sk-parallel-item::after {content: \"\";width: 100%;border-bottom: 1px solid gray;flex-grow: 1;}#sk-container-id-1 div.sk-label:hover label.sk-toggleable__label {background-color: #d4ebff;}#sk-container-id-1 div.sk-serial::before {content: \"\";position: absolute;border-left: 1px solid gray;box-sizing: border-box;top: 0;bottom: 0;left: 50%;z-index: 0;}#sk-container-id-1 div.sk-serial {display: flex;flex-direction: column;align-items: center;background-color: white;padding-right: 0.2em;padding-left: 0.2em;position: relative;}#sk-container-id-1 div.sk-item {position: relative;z-index: 1;}#sk-container-id-1 div.sk-parallel {display: flex;align-items: stretch;justify-content: center;background-color: white;position: relative;}#sk-container-id-1 div.sk-item::before, #sk-container-id-1 div.sk-parallel-item::before {content: \"\";position: absolute;border-left: 1px solid gray;box-sizing: border-box;top: 0;bottom: 0;left: 50%;z-index: -1;}#sk-container-id-1 div.sk-parallel-item {display: flex;flex-direction: column;z-index: 1;position: relative;background-color: white;}#sk-container-id-1 div.sk-parallel-item:first-child::after {align-self: flex-end;width: 50%;}#sk-container-id-1 div.sk-parallel-item:last-child::after {align-self: flex-start;width: 50%;}#sk-container-id-1 div.sk-parallel-item:only-child::after {width: 0;}#sk-container-id-1 div.sk-dashed-wrapped {border: 1px dashed gray;margin: 0 0.4em 0.5em 0.4em;box-sizing: border-box;padding-bottom: 0.4em;background-color: white;}#sk-container-id-1 div.sk-label label {font-family: monospace;font-weight: bold;display: inline-block;line-height: 1.2em;}#sk-container-id-1 div.sk-label-container {text-align: center;}#sk-container-id-1 div.sk-container {/* jupyter's `normalize.less` sets `[hidden] { display: none; }` but bootstrap.min.css set `[hidden] { display: none !important; }` so we also need the `!important` here to be able to override the default hidden behavior on the sphinx rendered scikit-learn.org. See: https://github.com/scikit-learn/scikit-learn/issues/21755 */display: inline-block !important;position: relative;}#sk-container-id-1 div.sk-text-repr-fallback {display: none;}</style><div id=\"sk-container-id-1\" class=\"sk-top-container\"><div class=\"sk-text-repr-fallback\"><pre>Pipeline(steps=[(&#x27;vectorizer&#x27;, TfidfVectorizer()),\n",
       "                (&#x27;MultinomialNB&#x27;, MultinomialNB())])</pre><b>In a Jupyter environment, please rerun this cell to show the HTML representation or trust the notebook. <br />On GitHub, the HTML representation is unable to render, please try loading this page with nbviewer.org.</b></div><div class=\"sk-container\" hidden><div class=\"sk-item sk-dashed-wrapped\"><div class=\"sk-label-container\"><div class=\"sk-label sk-toggleable\"><input class=\"sk-toggleable__control sk-hidden--visually\" id=\"sk-estimator-id-1\" type=\"checkbox\" ><label for=\"sk-estimator-id-1\" class=\"sk-toggleable__label sk-toggleable__label-arrow\">Pipeline</label><div class=\"sk-toggleable__content\"><pre>Pipeline(steps=[(&#x27;vectorizer&#x27;, TfidfVectorizer()),\n",
       "                (&#x27;MultinomialNB&#x27;, MultinomialNB())])</pre></div></div></div><div class=\"sk-serial\"><div class=\"sk-item\"><div class=\"sk-estimator sk-toggleable\"><input class=\"sk-toggleable__control sk-hidden--visually\" id=\"sk-estimator-id-2\" type=\"checkbox\" ><label for=\"sk-estimator-id-2\" class=\"sk-toggleable__label sk-toggleable__label-arrow\">TfidfVectorizer</label><div class=\"sk-toggleable__content\"><pre>TfidfVectorizer()</pre></div></div></div><div class=\"sk-item\"><div class=\"sk-estimator sk-toggleable\"><input class=\"sk-toggleable__control sk-hidden--visually\" id=\"sk-estimator-id-3\" type=\"checkbox\" ><label for=\"sk-estimator-id-3\" class=\"sk-toggleable__label sk-toggleable__label-arrow\">MultinomialNB</label><div class=\"sk-toggleable__content\"><pre>MultinomialNB()</pre></div></div></div></div></div></div></div>"
      ],
      "text/plain": [
       "Pipeline(steps=[('vectorizer', TfidfVectorizer()),\n",
       "                ('MultinomialNB', MultinomialNB())])"
      ]
     },
     "execution_count": 23,
     "metadata": {},
     "output_type": "execute_result"
    }
   ],
   "source": [
    "from sklearn.pipeline import Pipeline\n",
    "\n",
    "pipe = Pipeline([('vectorizer',tfidf_vectorizer),('MultinomialNB',model_nb)])\n",
    "pipe.fit(X_train,y_train)"
   ]
  },
  {
   "cell_type": "code",
   "execution_count": 24,
   "id": "0a70b80b",
   "metadata": {},
   "outputs": [
    {
     "name": "stdout",
     "output_type": "stream",
     "text": [
      "Accuracy for Multinomial Naive Bayes: 0.8538\n"
     ]
    }
   ],
   "source": [
    "y_pred2 = pipe.predict(X_test)\n",
    "accuracy_nb2 = accuracy_score(y_test,y_pred2)\n",
    "print(f\"Accuracy for Multinomial Naive Bayes: {accuracy_nb2:.4f}\")"
   ]
  },
  {
   "cell_type": "markdown",
   "id": "a5cf9641",
   "metadata": {},
   "source": [
    "# Saving the trained model"
   ]
  },
  {
   "cell_type": "code",
   "execution_count": 25,
   "id": "8c8832cd",
   "metadata": {},
   "outputs": [],
   "source": [
    "import pickle\n",
    "\n",
    "#This allows to save the trained model to disk and load it later for making predictions or further analysis. \n",
    "with open('trained_pipeline_0.1.0.pkl','wb') as f:\n",
    "    pickle.dump(pipe,f)"
   ]
  }
 ],
 "metadata": {
  "kernelspec": {
   "display_name": "Python 3",
   "language": "python",
   "name": "python3"
  },
  "language_info": {
   "codemirror_mode": {
    "name": "ipython",
    "version": 3
   },
   "file_extension": ".py",
   "mimetype": "text/x-python",
   "name": "python",
   "nbconvert_exporter": "python",
   "pygments_lexer": "ipython3",
   "version": "3.11.5"
  }
 },
 "nbformat": 4,
 "nbformat_minor": 5
}
